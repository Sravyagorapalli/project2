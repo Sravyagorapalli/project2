{
 "cells": [
  {
   "cell_type": "code",
   "execution_count": 1,
   "metadata": {
    "scrolled": true
   },
   "outputs": [
    {
     "name": "stdout",
     "output_type": "stream",
     "text": [
      "enter the size of list:10\n",
      "enter the elements in list:2\n",
      "[2]\n",
      "enter the elements in list:3\n",
      "[2]\n",
      "enter the elements in list:4\n",
      "[2, 4]\n",
      "enter the elements in list:5\n",
      "[2, 4]\n",
      "enter the elements in list:6\n",
      "[2, 4, 6]\n",
      "enter the elements in list:7\n",
      "[2, 4, 6]\n",
      "enter the elements in list:8\n",
      "[2, 4, 6, 8]\n",
      "enter the elements in list:9\n",
      "[2, 4, 6, 8]\n",
      "enter the elements in list:10\n",
      "[2, 4, 6, 8, 10]\n",
      "enter the elements in list:11\n",
      "[2, 4, 6, 8, 10]\n"
     ]
    }
   ],
   "source": [
    "#question1\n",
    "list=[]\n",
    "n=int(input(\"enter the size of list:\"))\n",
    "for i in range(n):\n",
    "    x=int(input(\"enter the elements in list:\"))\n",
    "    y=x%2\n",
    "    if y==0:\n",
    "        list.append(x)\n",
    "    print(list)\n",
    "    "
   ]
  },
  {
   "cell_type": "code",
   "execution_count": 11,
   "metadata": {},
   "outputs": [
    {
     "name": "stdout",
     "output_type": "stream",
     "text": [
      "[1.0, 1.4142135623730951, 1.7320508075688772, 2.0, 2.23606797749979, 2.449489742783178, 2.6457513110645907, 2.8284271247461903, 3.0, 3.1622776601683795]\n"
     ]
    }
   ],
   "source": [
    "#question2\n",
    "import math \n",
    "sqrt=[math.sqrt(i) for i in range(1,11)]\n",
    "print(sqrt)"
   ]
  },
  {
   "cell_type": "code",
   "execution_count": 16,
   "metadata": {},
   "outputs": [
    {
     "name": "stdout",
     "output_type": "stream",
     "text": [
      "enter the value of n:8\n",
      "{1: 1, 2: 4, 3: 9, 4: 16, 5: 25, 6: 36, 7: 49, 8: 64}\n"
     ]
    }
   ],
   "source": [
    "#question3\n",
    "n=int(input(\"enter the value of n:\"))\n",
    "d=dict()\n",
    "for i in range(1,n+1):\n",
    "    d[i]=i**2\n",
    "print(d)\n",
    "    \n",
    "\n",
    "    \n",
    "    \n"
   ]
  },
  {
   "cell_type": "code",
   "execution_count": 21,
   "metadata": {},
   "outputs": [
    {
     "name": "stdout",
     "output_type": "stream",
     "text": [
      "2.23606797749979\n",
      "2\n"
     ]
    }
   ],
   "source": [
    "#question4\n",
    "from math import *\n",
    "x1=0\n",
    "y1=0\n",
    "up=5\n",
    "up=x1+up\n",
    "down=3\n",
    "y2=up-down\n",
    "left=3\n",
    "left=x1-left\n",
    "right=2\n",
    "x2=left+right\n",
    "x=x2-x1\n",
    "y=y2-y1\n",
    "distance=math.sqrt(x*x+y*y)\n",
    "print(math.floor(distance))\n",
    "\n"
   ]
  },
  {
   "cell_type": "code",
   "execution_count": null,
   "metadata": {},
   "outputs": [],
   "source": []
  }
 ],
 "metadata": {
  "kernelspec": {
   "display_name": "Python 3",
   "language": "python",
   "name": "python3"
  },
  "language_info": {
   "codemirror_mode": {
    "name": "ipython",
    "version": 3
   },
   "file_extension": ".py",
   "mimetype": "text/x-python",
   "name": "python",
   "nbconvert_exporter": "python",
   "pygments_lexer": "ipython3",
   "version": "3.7.6"
  }
 },
 "nbformat": 4,
 "nbformat_minor": 4
}
